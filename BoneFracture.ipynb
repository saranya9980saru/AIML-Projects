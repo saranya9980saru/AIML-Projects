{
 "cells": [
  {
   "cell_type": "code",
   "execution_count": 2,
   "id": "10c62a21-18fd-45e9-9e25-76aba14e36ca",
   "metadata": {},
   "outputs": [],
   "source": [
    "import tensorflow as tf\n",
    "from tensorflow import keras\n",
    "from tensorflow.keras import layers\n",
    "from tensorflow.keras.preprocessing.image import ImageDataGenerator\n",
    "#define image size & batch size\n",
    "IMG_SIZE=224\n",
    "BATCH_SIZE=32"
   ]
  },
  {
   "cell_type": "code",
   "execution_count": 3,
   "id": "0678d88b-9f1f-4909-a8ad-39dd3d9bb344",
   "metadata": {},
   "outputs": [
    {
     "name": "stdout",
     "output_type": "stream",
     "text": [
      "Found 3279 images belonging to 2 classes.\n",
      "Found 818 images belonging to 2 classes.\n"
     ]
    }
   ],
   "source": [
    "train_datagen=ImageDataGenerator(rescale=1./255,validation_split=0.2)\n",
    "train_generator=train_datagen.flow_from_directory(r\"C:\\Users\\saranya\\OneDrive\\Desktop\\train\",\n",
    "                                                target_size=(IMG_SIZE, IMG_SIZE),\n",
    "                                                batch_size=BATCH_SIZE,\n",
    "                                                class_mode='binary',\n",
    "                                                subset='training'\n",
    "                                               )\n",
    "val_generator=train_datagen.flow_from_directory(r\"C:\\Users\\saranya\\OneDrive\\Desktop\\train\",\n",
    "                                                target_size=(IMG_SIZE,IMG_SIZE),\n",
    "                                                batch_size=BATCH_SIZE,\n",
    "                                                class_mode='binary',\n",
    "                                                subset='validation'\n",
    "                                               )"
   ]
  },
  {
   "cell_type": "code",
   "execution_count": 4,
   "id": "ea946f91-41ab-4efa-8d76-1db877f1221f",
   "metadata": {},
   "outputs": [
    {
     "name": "stderr",
     "output_type": "stream",
     "text": [
      "C:\\Users\\saranya\\anaconda3\\Lib\\site-packages\\keras\\src\\layers\\convolutional\\base_conv.py:107: UserWarning: Do not pass an `input_shape`/`input_dim` argument to a layer. When using Sequential models, prefer using an `Input(shape)` object as the first layer in the model instead.\n",
      "  super().__init__(activity_regularizer=activity_regularizer, **kwargs)\n"
     ]
    }
   ],
   "source": [
    "model=keras.Sequential([\n",
    "    layers.Conv2D(32,(3,3), activation='relu', input_shape=(IMG_SIZE, IMG_SIZE, 3)),\n",
    "    layers.MaxPooling2D((2,2)),\n",
    "    layers.Conv2D(64,(3, 3), activation='relu'),\n",
    "    layers.MaxPooling2D((2,2)),\n",
    "    layers.Conv2D(128,(3, 3), activation='relu'),\n",
    "    layers.MaxPooling2D((2,2)),\n",
    "    layers.Flatten(),\n",
    "    layers.Dense(128,activation='relu'),\n",
    "    layers.Dense(1,activation='sigmoid')\n",
    "])"
   ]
  },
  {
   "cell_type": "code",
   "execution_count": 5,
   "id": "08d3055f-eb3e-4b02-b8dd-3298a442b308",
   "metadata": {},
   "outputs": [],
   "source": [
    "model.compile(optimizer='adam', loss='binary_crossentropy', metrics=['accuracy'])"
   ]
  },
  {
   "cell_type": "code",
   "execution_count": 6,
   "id": "d657342f-b9c2-4a2e-830d-3f914b479a9b",
   "metadata": {},
   "outputs": [
    {
     "name": "stdout",
     "output_type": "stream",
     "text": [
      "Epoch 1/5\n"
     ]
    },
    {
     "name": "stderr",
     "output_type": "stream",
     "text": [
      "C:\\Users\\saranya\\anaconda3\\Lib\\site-packages\\keras\\src\\trainers\\data_adapters\\py_dataset_adapter.py:121: UserWarning: Your `PyDataset` class should call `super().__init__(**kwargs)` in its constructor. `**kwargs` can include `workers`, `use_multiprocessing`, `max_queue_size`. Do not pass these arguments to `fit()`, as they will be ignored.\n",
      "  self._warn_if_super_not_called()\n"
     ]
    },
    {
     "name": "stdout",
     "output_type": "stream",
     "text": [
      "\u001b[1m103/103\u001b[0m \u001b[32m━━━━━━━━━━━━━━━━━━━━\u001b[0m\u001b[37m\u001b[0m \u001b[1m95s\u001b[0m 885ms/step - accuracy: 0.6640 - loss: 0.6430 - val_accuracy: 0.6760 - val_loss: 1.1290\n",
      "Epoch 2/5\n",
      "\u001b[1m103/103\u001b[0m \u001b[32m━━━━━━━━━━━━━━━━━━━━\u001b[0m\u001b[37m\u001b[0m \u001b[1m93s\u001b[0m 900ms/step - accuracy: 0.9486 - loss: 0.1500 - val_accuracy: 0.6614 - val_loss: 1.9936\n",
      "Epoch 3/5\n",
      "\u001b[1m103/103\u001b[0m \u001b[32m━━━━━━━━━━━━━━━━━━━━\u001b[0m\u001b[37m\u001b[0m \u001b[1m93s\u001b[0m 900ms/step - accuracy: 0.9907 - loss: 0.0379 - val_accuracy: 0.6491 - val_loss: 1.9281\n",
      "Epoch 4/5\n",
      "\u001b[1m103/103\u001b[0m \u001b[32m━━━━━━━━━━━━━━━━━━━━\u001b[0m\u001b[37m\u001b[0m \u001b[1m93s\u001b[0m 901ms/step - accuracy: 0.9948 - loss: 0.0242 - val_accuracy: 0.6540 - val_loss: 3.7793\n",
      "Epoch 5/5\n",
      "\u001b[1m103/103\u001b[0m \u001b[32m━━━━━━━━━━━━━━━━━━━━\u001b[0m\u001b[37m\u001b[0m \u001b[1m92s\u001b[0m 895ms/step - accuracy: 0.9980 - loss: 0.0080 - val_accuracy: 0.6504 - val_loss: 4.4956\n"
     ]
    },
    {
     "data": {
      "text/plain": [
       "<keras.src.callbacks.history.History at 0x1f205df5990>"
      ]
     },
     "execution_count": 6,
     "metadata": {},
     "output_type": "execute_result"
    }
   ],
   "source": [
    "model.fit(train_generator,validation_data=val_generator,epochs=5)"
   ]
  },
  {
   "cell_type": "code",
   "execution_count": 7,
   "id": "a3058d35-a4c4-4d24-a75e-12773ae003dd",
   "metadata": {},
   "outputs": [
    {
     "name": "stderr",
     "output_type": "stream",
     "text": [
      "WARNING:absl:You are saving your model as an HDF5 file via `model.save()` or `keras.saving.save_model(model)`. This file format is considered legacy. We recommend using instead the native Keras format, e.g. `model.save('my_model.keras')` or `keras.saving.save_model(model, 'my_model.keras')`. \n"
     ]
    }
   ],
   "source": [
    "model.save(\"Model.h5\")"
   ]
  },
  {
   "cell_type": "code",
   "execution_count": 8,
   "id": "64130672-ec7a-4d1c-af63-2b1f005aaecb",
   "metadata": {},
   "outputs": [],
   "source": [
    "from tensorflow.keras.models import load_model\n",
    "from tensorflow.keras.preprocessing import image\n",
    "import numpy as np"
   ]
  },
  {
   "cell_type": "code",
   "execution_count": 9,
   "id": "c27bf461-1fb5-446a-914d-ee6f3cad1ae9",
   "metadata": {},
   "outputs": [
    {
     "name": "stderr",
     "output_type": "stream",
     "text": [
      "WARNING:absl:Compiled the loaded model, but the compiled metrics have yet to be built. `model.compile_metrics` will be empty until you train or evaluate the model.\n"
     ]
    },
    {
     "name": "stdout",
     "output_type": "stream",
     "text": [
      "model loaded\n"
     ]
    }
   ],
   "source": [
    "model=load_model(r\"Model.h5\")\n",
    "print(\"model loaded\")"
   ]
  },
  {
   "cell_type": "code",
   "execution_count": null,
   "id": "02f1f228-bf36-4fe1-b363-eca6e7598f02",
   "metadata": {},
   "outputs": [],
   "source": [
    "from PIL import Image\n",
    "imagedisp = Image.open(r\"C:\\Users\\saranya\\Downloads\\archive (7)\\dataset\\train\\fractured\\99-rotated3-rotated2-rotated1.jpg\")\n",
    "imagedisp.show()\n",
    "test_image_path=(r\"C:\\Users\\saranya\\Downloads\\archive (7)\\dataset\\train\\fractured\\99-rotated3-rotated2-rotated1.jpg\")\n",
    "img=image.load_img(test_image_path, target_size=(224,224))\n",
    "img_array=image.img_to_array(img)\n",
    "img_array=np.expand_dims(img_array, axis=0)"
   ]
  },
  {
   "cell_type": "code",
   "execution_count": 11,
   "id": "86cfe0c9-6120-4bd5-b4f5-d67e3aaa250d",
   "metadata": {},
   "outputs": [
    {
     "name": "stdout",
     "output_type": "stream",
     "text": [
      "\u001b[1m1/1\u001b[0m \u001b[32m━━━━━━━━━━━━━━━━━━━━\u001b[0m\u001b[37m\u001b[0m \u001b[1m0s\u001b[0m 118ms/step\n",
      "[[1.]]\n"
     ]
    }
   ],
   "source": [
    "img_array /=255.\n",
    "prediction=model.predict(img_array)\n",
    "print(prediction)"
   ]
  },
  {
   "cell_type": "code",
   "execution_count": 12,
   "id": "1749c707-691b-4e75-ab54-a66372e75165",
   "metadata": {},
   "outputs": [
    {
     "name": "stdout",
     "output_type": "stream",
     "text": [
      "prediction :fractured(probability: 1.0\n"
     ]
    }
   ],
   "source": [
    "if prediction>0.5:\n",
    "    print(\"prediction :fractured(probability:\",prediction[0][0])\n",
    "else:\n",
    "    print(\"prediction : not fractured(probability:\",prediction[0][0])"
   ]
  },
  {
   "cell_type": "code",
   "execution_count": null,
   "id": "e469c675-32a7-418b-a902-0331ee4b4707",
   "metadata": {},
   "outputs": [],
   "source": [
    "from PIL import Image\n",
    "imagedisp = Image.open(r\"C:\\Users\\saranya\\OneDrive\\Desktop\\train\\not fractured\\1-rotated1-rotated3-rotated2-rotated1.jpg\")\n",
    "imagedisp.show()\n",
    "\n",
    "\n",
    "\n",
    "test_image_path=(r\"C:\\Users\\saranya\\OneDrive\\Desktop\\train\\not fractured\\1-rotated1-rotated3-rotated2-rotated1.jpg\")\n",
    "img=image.load_img(test_image_path, target_size=(224,224))\n",
    "img_array=image.img_to_array(img)\n",
    "img_array=np.expand_dims(img_array, axis=0)"
   ]
  },
  {
   "cell_type": "code",
   "execution_count": 14,
   "id": "a52aacd1-3286-4fb4-b6c7-eb65362afac0",
   "metadata": {},
   "outputs": [
    {
     "name": "stdout",
     "output_type": "stream",
     "text": [
      "\u001b[1m1/1\u001b[0m \u001b[32m━━━━━━━━━━━━━━━━━━━━\u001b[0m\u001b[37m\u001b[0m \u001b[1m0s\u001b[0m 52ms/step\n",
      "[[0.936058]]\n"
     ]
    }
   ],
   "source": [
    "img_array /=255.\n",
    "prediction=model.predict(img_array)\n",
    "print(prediction)"
   ]
  },
  {
   "cell_type": "code",
   "execution_count": 15,
   "id": "bcd1f524-3e83-40be-bd19-74cb6214d153",
   "metadata": {},
   "outputs": [
    {
     "name": "stdout",
     "output_type": "stream",
     "text": [
      "prediction :not  fractured(probability: 0.936058\n"
     ]
    }
   ],
   "source": [
    "if prediction>0.5:\n",
    "    print(\"prediction :not  fractured(probability:\",prediction[0][0])\n",
    "else:\n",
    "    print(\"prediction :fractured(probability:\",prediction[0][0])"
   ]
  },
  {
   "cell_type": "code",
   "execution_count": null,
   "id": "05ce26f8-b28f-468c-82be-1704df28cd12",
   "metadata": {},
   "outputs": [],
   "source": [
    "from PIL import Image\n",
    "imagedisp = Image.open(r\"C:\\Users\\saranya\\OneDrive\\Desktop\\broken.webp\")\n",
    "imagedisp.show()\n",
    "\n",
    "\n",
    "\n",
    "test_image_path=(r\"C:\\Users\\saranya\\OneDrive\\Desktop\\broken.webp\")\n",
    "img=image.load_img(test_image_path, target_size=(224,224))\n",
    "img_array=image.img_to_array(img)\n",
    "img_array=np.expand_dims(img_array, axis=0)"
   ]
  },
  {
   "cell_type": "code",
   "execution_count": 17,
   "id": "61f8fab2-e12f-49f5-ba5b-1ca68d01c0ef",
   "metadata": {},
   "outputs": [
    {
     "name": "stdout",
     "output_type": "stream",
     "text": [
      "\u001b[1m1/1\u001b[0m \u001b[32m━━━━━━━━━━━━━━━━━━━━\u001b[0m\u001b[37m\u001b[0m \u001b[1m0s\u001b[0m 35ms/step\n",
      "[[8.773476e-09]]\n"
     ]
    }
   ],
   "source": [
    "img_array /=255.\n",
    "prediction=model.predict(img_array)\n",
    "print(prediction)"
   ]
  },
  {
   "cell_type": "code",
   "execution_count": 18,
   "id": "e055ce27-e0c5-42ec-820c-3488b0fd791b",
   "metadata": {},
   "outputs": [
    {
     "name": "stdout",
     "output_type": "stream",
     "text": [
      "prediction :fractured(probability: 8.773476e-09\n"
     ]
    }
   ],
   "source": [
    "if prediction>0.5:\n",
    "    print(\"prediction :not  fractured(probability:\",prediction[0][0])\n",
    "else:\n",
    "    print(\"prediction :fractured(probability:\",prediction[0][0])"
   ]
  },
  {
   "cell_type": "code",
   "execution_count": null,
   "id": "12019864-08a7-4cd4-85cc-6dcd964b3bd5",
   "metadata": {},
   "outputs": [],
   "source": []
  }
 ],
 "metadata": {
  "kernelspec": {
   "display_name": "Python 3 (ipykernel)",
   "language": "python",
   "name": "python3"
  },
  "language_info": {
   "codemirror_mode": {
    "name": "ipython",
    "version": 3
   },
   "file_extension": ".py",
   "mimetype": "text/x-python",
   "name": "python",
   "nbconvert_exporter": "python",
   "pygments_lexer": "ipython3",
   "version": "3.11.7"
  }
 },
 "nbformat": 4,
 "nbformat_minor": 5
}
