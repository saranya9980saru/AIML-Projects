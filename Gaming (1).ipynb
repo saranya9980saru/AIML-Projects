{
 "cells": [
  {
   "cell_type": "code",
   "execution_count": 1,
   "id": "f59402fd-94fa-4482-bf5b-fccd0e512e99",
   "metadata": {},
   "outputs": [],
   "source": [
    "import numpy as np\n",
    "import matplotlib.pyplot as plt\n",
    "import pandas as pd\n",
    "from sklearn.linear_model import LogisticRegression\n",
    "from sklearn.preprocessing import LabelEncoder"
   ]
  },
  {
   "cell_type": "code",
   "execution_count": 3,
   "id": "ecb6fd46-92ac-4267-9a2e-dc09443c9887",
   "metadata": {},
   "outputs": [
    {
     "data": {
      "text/html": [
       "<div>\n",
       "<style scoped>\n",
       "    .dataframe tbody tr th:only-of-type {\n",
       "        vertical-align: middle;\n",
       "    }\n",
       "\n",
       "    .dataframe tbody tr th {\n",
       "        vertical-align: top;\n",
       "    }\n",
       "\n",
       "    .dataframe thead th {\n",
       "        text-align: right;\n",
       "    }\n",
       "</style>\n",
       "<table border=\"1\" class=\"dataframe\">\n",
       "  <thead>\n",
       "    <tr style=\"text-align: right;\">\n",
       "      <th></th>\n",
       "      <th>PlayerID</th>\n",
       "      <th>Age</th>\n",
       "      <th>Gender</th>\n",
       "      <th>Location</th>\n",
       "      <th>GameGenre</th>\n",
       "      <th>PlayTimeHours</th>\n",
       "      <th>InGamePurchases</th>\n",
       "      <th>GameDifficulty</th>\n",
       "      <th>SessionsPerWeek</th>\n",
       "      <th>AvgSessionDurationMinutes</th>\n",
       "      <th>PlayerLevel</th>\n",
       "      <th>AchievementsUnlocked</th>\n",
       "      <th>EngagementLevel</th>\n",
       "    </tr>\n",
       "  </thead>\n",
       "  <tbody>\n",
       "    <tr>\n",
       "      <th>0</th>\n",
       "      <td>9000</td>\n",
       "      <td>43</td>\n",
       "      <td>Male</td>\n",
       "      <td>Other</td>\n",
       "      <td>Strategy</td>\n",
       "      <td>16.271119</td>\n",
       "      <td>0</td>\n",
       "      <td>Medium</td>\n",
       "      <td>6</td>\n",
       "      <td>108</td>\n",
       "      <td>79</td>\n",
       "      <td>25</td>\n",
       "      <td>Medium</td>\n",
       "    </tr>\n",
       "    <tr>\n",
       "      <th>1</th>\n",
       "      <td>9001</td>\n",
       "      <td>29</td>\n",
       "      <td>Female</td>\n",
       "      <td>USA</td>\n",
       "      <td>Strategy</td>\n",
       "      <td>5.525961</td>\n",
       "      <td>0</td>\n",
       "      <td>Medium</td>\n",
       "      <td>5</td>\n",
       "      <td>144</td>\n",
       "      <td>11</td>\n",
       "      <td>10</td>\n",
       "      <td>Medium</td>\n",
       "    </tr>\n",
       "    <tr>\n",
       "      <th>2</th>\n",
       "      <td>9002</td>\n",
       "      <td>22</td>\n",
       "      <td>Female</td>\n",
       "      <td>USA</td>\n",
       "      <td>Sports</td>\n",
       "      <td>8.223755</td>\n",
       "      <td>0</td>\n",
       "      <td>Easy</td>\n",
       "      <td>16</td>\n",
       "      <td>142</td>\n",
       "      <td>35</td>\n",
       "      <td>41</td>\n",
       "      <td>High</td>\n",
       "    </tr>\n",
       "    <tr>\n",
       "      <th>3</th>\n",
       "      <td>9003</td>\n",
       "      <td>35</td>\n",
       "      <td>Male</td>\n",
       "      <td>USA</td>\n",
       "      <td>Action</td>\n",
       "      <td>5.265351</td>\n",
       "      <td>1</td>\n",
       "      <td>Easy</td>\n",
       "      <td>9</td>\n",
       "      <td>85</td>\n",
       "      <td>57</td>\n",
       "      <td>47</td>\n",
       "      <td>Medium</td>\n",
       "    </tr>\n",
       "    <tr>\n",
       "      <th>4</th>\n",
       "      <td>9004</td>\n",
       "      <td>33</td>\n",
       "      <td>Male</td>\n",
       "      <td>Europe</td>\n",
       "      <td>Action</td>\n",
       "      <td>15.531945</td>\n",
       "      <td>0</td>\n",
       "      <td>Medium</td>\n",
       "      <td>2</td>\n",
       "      <td>131</td>\n",
       "      <td>95</td>\n",
       "      <td>37</td>\n",
       "      <td>Medium</td>\n",
       "    </tr>\n",
       "  </tbody>\n",
       "</table>\n",
       "</div>"
      ],
      "text/plain": [
       "   PlayerID  Age  Gender Location GameGenre  PlayTimeHours  InGamePurchases  \\\n",
       "0      9000   43    Male    Other  Strategy      16.271119                0   \n",
       "1      9001   29  Female      USA  Strategy       5.525961                0   \n",
       "2      9002   22  Female      USA    Sports       8.223755                0   \n",
       "3      9003   35    Male      USA    Action       5.265351                1   \n",
       "4      9004   33    Male   Europe    Action      15.531945                0   \n",
       "\n",
       "  GameDifficulty  SessionsPerWeek  AvgSessionDurationMinutes  PlayerLevel  \\\n",
       "0         Medium                6                        108           79   \n",
       "1         Medium                5                        144           11   \n",
       "2           Easy               16                        142           35   \n",
       "3           Easy                9                         85           57   \n",
       "4         Medium                2                        131           95   \n",
       "\n",
       "   AchievementsUnlocked EngagementLevel  \n",
       "0                    25          Medium  \n",
       "1                    10          Medium  \n",
       "2                    41            High  \n",
       "3                    47          Medium  \n",
       "4                    37          Medium  "
      ]
     },
     "execution_count": 3,
     "metadata": {},
     "output_type": "execute_result"
    }
   ],
   "source": [
    "we=pd.read_csv(r\"C:\\Users\\SUJAN NAIK\\Music\\official\\online_gaming_behavior_dataset.csv\")\n",
    "we.head()"
   ]
  },
  {
   "cell_type": "code",
   "execution_count": 4,
   "id": "7bb75354-c59c-4701-8df9-434e2f68b14c",
   "metadata": {},
   "outputs": [
    {
     "data": {
      "text/plain": [
       "PlayerID                     0\n",
       "Age                          0\n",
       "Gender                       0\n",
       "Location                     0\n",
       "GameGenre                    0\n",
       "PlayTimeHours                0\n",
       "InGamePurchases              0\n",
       "GameDifficulty               0\n",
       "SessionsPerWeek              0\n",
       "AvgSessionDurationMinutes    0\n",
       "PlayerLevel                  0\n",
       "AchievementsUnlocked         0\n",
       "EngagementLevel              0\n",
       "dtype: int64"
      ]
     },
     "execution_count": 4,
     "metadata": {},
     "output_type": "execute_result"
    }
   ],
   "source": [
    "we.isnull().sum()"
   ]
  },
  {
   "cell_type": "code",
   "execution_count": 27,
   "id": "4e3e7e02-c9d7-4058-8d18-70a50108b466",
   "metadata": {},
   "outputs": [],
   "source": [
    "x=we[['PlayerID','Age','Gender','PlayTimeHours','GameDifficulty','SessionsPerWeek','AvgSessionDurationMinutes','PlayerLevel','AchievementsUnlocked']]\n",
    "y=we['EngagementLevel']\n",
    "LR=LogisticRegression()"
   ]
  },
  {
   "cell_type": "code",
   "execution_count": 28,
   "id": "c95af2d8-147f-4c96-8a97-1882afd443e6",
   "metadata": {},
   "outputs": [],
   "source": [
    "le=LabelEncoder()\n",
    "we['Gender']=le.fit_transform(we['Gender'])\n",
    "we['GameDifficulty']=le.fit_transform(we['GameDifficulty'])"
   ]
  },
  {
   "cell_type": "code",
   "execution_count": 29,
   "id": "af83f284-783f-48ef-9254-f36236dfe23f",
   "metadata": {},
   "outputs": [
    {
     "data": {
      "text/html": [
       "<div>\n",
       "<style scoped>\n",
       "    .dataframe tbody tr th:only-of-type {\n",
       "        vertical-align: middle;\n",
       "    }\n",
       "\n",
       "    .dataframe tbody tr th {\n",
       "        vertical-align: top;\n",
       "    }\n",
       "\n",
       "    .dataframe thead th {\n",
       "        text-align: right;\n",
       "    }\n",
       "</style>\n",
       "<table border=\"1\" class=\"dataframe\">\n",
       "  <thead>\n",
       "    <tr style=\"text-align: right;\">\n",
       "      <th></th>\n",
       "      <th>PlayerID</th>\n",
       "      <th>Age</th>\n",
       "      <th>Gender</th>\n",
       "      <th>Location</th>\n",
       "      <th>GameGenre</th>\n",
       "      <th>PlayTimeHours</th>\n",
       "      <th>InGamePurchases</th>\n",
       "      <th>GameDifficulty</th>\n",
       "      <th>SessionsPerWeek</th>\n",
       "      <th>AvgSessionDurationMinutes</th>\n",
       "      <th>PlayerLevel</th>\n",
       "      <th>AchievementsUnlocked</th>\n",
       "      <th>EngagementLevel</th>\n",
       "    </tr>\n",
       "  </thead>\n",
       "  <tbody>\n",
       "    <tr>\n",
       "      <th>0</th>\n",
       "      <td>9000</td>\n",
       "      <td>43</td>\n",
       "      <td>1</td>\n",
       "      <td>Other</td>\n",
       "      <td>Strategy</td>\n",
       "      <td>16.271119</td>\n",
       "      <td>0</td>\n",
       "      <td>2</td>\n",
       "      <td>6</td>\n",
       "      <td>108</td>\n",
       "      <td>79</td>\n",
       "      <td>25</td>\n",
       "      <td>Medium</td>\n",
       "    </tr>\n",
       "    <tr>\n",
       "      <th>1</th>\n",
       "      <td>9001</td>\n",
       "      <td>29</td>\n",
       "      <td>0</td>\n",
       "      <td>USA</td>\n",
       "      <td>Strategy</td>\n",
       "      <td>5.525961</td>\n",
       "      <td>0</td>\n",
       "      <td>2</td>\n",
       "      <td>5</td>\n",
       "      <td>144</td>\n",
       "      <td>11</td>\n",
       "      <td>10</td>\n",
       "      <td>Medium</td>\n",
       "    </tr>\n",
       "    <tr>\n",
       "      <th>2</th>\n",
       "      <td>9002</td>\n",
       "      <td>22</td>\n",
       "      <td>0</td>\n",
       "      <td>USA</td>\n",
       "      <td>Sports</td>\n",
       "      <td>8.223755</td>\n",
       "      <td>0</td>\n",
       "      <td>0</td>\n",
       "      <td>16</td>\n",
       "      <td>142</td>\n",
       "      <td>35</td>\n",
       "      <td>41</td>\n",
       "      <td>High</td>\n",
       "    </tr>\n",
       "    <tr>\n",
       "      <th>3</th>\n",
       "      <td>9003</td>\n",
       "      <td>35</td>\n",
       "      <td>1</td>\n",
       "      <td>USA</td>\n",
       "      <td>Action</td>\n",
       "      <td>5.265351</td>\n",
       "      <td>1</td>\n",
       "      <td>0</td>\n",
       "      <td>9</td>\n",
       "      <td>85</td>\n",
       "      <td>57</td>\n",
       "      <td>47</td>\n",
       "      <td>Medium</td>\n",
       "    </tr>\n",
       "    <tr>\n",
       "      <th>4</th>\n",
       "      <td>9004</td>\n",
       "      <td>33</td>\n",
       "      <td>1</td>\n",
       "      <td>Europe</td>\n",
       "      <td>Action</td>\n",
       "      <td>15.531945</td>\n",
       "      <td>0</td>\n",
       "      <td>2</td>\n",
       "      <td>2</td>\n",
       "      <td>131</td>\n",
       "      <td>95</td>\n",
       "      <td>37</td>\n",
       "      <td>Medium</td>\n",
       "    </tr>\n",
       "  </tbody>\n",
       "</table>\n",
       "</div>"
      ],
      "text/plain": [
       "   PlayerID  Age  Gender Location GameGenre  PlayTimeHours  InGamePurchases  \\\n",
       "0      9000   43       1    Other  Strategy      16.271119                0   \n",
       "1      9001   29       0      USA  Strategy       5.525961                0   \n",
       "2      9002   22       0      USA    Sports       8.223755                0   \n",
       "3      9003   35       1      USA    Action       5.265351                1   \n",
       "4      9004   33       1   Europe    Action      15.531945                0   \n",
       "\n",
       "   GameDifficulty  SessionsPerWeek  AvgSessionDurationMinutes  PlayerLevel  \\\n",
       "0               2                6                        108           79   \n",
       "1               2                5                        144           11   \n",
       "2               0               16                        142           35   \n",
       "3               0                9                         85           57   \n",
       "4               2                2                        131           95   \n",
       "\n",
       "   AchievementsUnlocked EngagementLevel  \n",
       "0                    25          Medium  \n",
       "1                    10          Medium  \n",
       "2                    41            High  \n",
       "3                    47          Medium  \n",
       "4                    37          Medium  "
      ]
     },
     "execution_count": 29,
     "metadata": {},
     "output_type": "execute_result"
    }
   ],
   "source": [
    "we.head()"
   ]
  },
  {
   "cell_type": "code",
   "execution_count": 30,
   "id": "c32f2609-c48f-4a44-a3fc-1790b4c2439b",
   "metadata": {},
   "outputs": [
    {
     "name": "stderr",
     "output_type": "stream",
     "text": [
      "C:\\Users\\SUJAN NAIK\\anaconda3\\Lib\\site-packages\\sklearn\\linear_model\\_logistic.py:458: ConvergenceWarning: lbfgs failed to converge (status=1):\n",
      "STOP: TOTAL NO. of ITERATIONS REACHED LIMIT.\n",
      "\n",
      "Increase the number of iterations (max_iter) or scale the data as shown in:\n",
      "    https://scikit-learn.org/stable/modules/preprocessing.html\n",
      "Please also refer to the documentation for alternative solver options:\n",
      "    https://scikit-learn.org/stable/modules/linear_model.html#logistic-regression\n",
      "  n_iter_i = _check_optimize_result(\n"
     ]
    },
    {
     "data": {
      "text/html": [
       "<style>#sk-container-id-1 {color: black;background-color: white;}#sk-container-id-1 pre{padding: 0;}#sk-container-id-1 div.sk-toggleable {background-color: white;}#sk-container-id-1 label.sk-toggleable__label {cursor: pointer;display: block;width: 100%;margin-bottom: 0;padding: 0.3em;box-sizing: border-box;text-align: center;}#sk-container-id-1 label.sk-toggleable__label-arrow:before {content: \"▸\";float: left;margin-right: 0.25em;color: #696969;}#sk-container-id-1 label.sk-toggleable__label-arrow:hover:before {color: black;}#sk-container-id-1 div.sk-estimator:hover label.sk-toggleable__label-arrow:before {color: black;}#sk-container-id-1 div.sk-toggleable__content {max-height: 0;max-width: 0;overflow: hidden;text-align: left;background-color: #f0f8ff;}#sk-container-id-1 div.sk-toggleable__content pre {margin: 0.2em;color: black;border-radius: 0.25em;background-color: #f0f8ff;}#sk-container-id-1 input.sk-toggleable__control:checked~div.sk-toggleable__content {max-height: 200px;max-width: 100%;overflow: auto;}#sk-container-id-1 input.sk-toggleable__control:checked~label.sk-toggleable__label-arrow:before {content: \"▾\";}#sk-container-id-1 div.sk-estimator input.sk-toggleable__control:checked~label.sk-toggleable__label {background-color: #d4ebff;}#sk-container-id-1 div.sk-label input.sk-toggleable__control:checked~label.sk-toggleable__label {background-color: #d4ebff;}#sk-container-id-1 input.sk-hidden--visually {border: 0;clip: rect(1px 1px 1px 1px);clip: rect(1px, 1px, 1px, 1px);height: 1px;margin: -1px;overflow: hidden;padding: 0;position: absolute;width: 1px;}#sk-container-id-1 div.sk-estimator {font-family: monospace;background-color: #f0f8ff;border: 1px dotted black;border-radius: 0.25em;box-sizing: border-box;margin-bottom: 0.5em;}#sk-container-id-1 div.sk-estimator:hover {background-color: #d4ebff;}#sk-container-id-1 div.sk-parallel-item::after {content: \"\";width: 100%;border-bottom: 1px solid gray;flex-grow: 1;}#sk-container-id-1 div.sk-label:hover label.sk-toggleable__label {background-color: #d4ebff;}#sk-container-id-1 div.sk-serial::before {content: \"\";position: absolute;border-left: 1px solid gray;box-sizing: border-box;top: 0;bottom: 0;left: 50%;z-index: 0;}#sk-container-id-1 div.sk-serial {display: flex;flex-direction: column;align-items: center;background-color: white;padding-right: 0.2em;padding-left: 0.2em;position: relative;}#sk-container-id-1 div.sk-item {position: relative;z-index: 1;}#sk-container-id-1 div.sk-parallel {display: flex;align-items: stretch;justify-content: center;background-color: white;position: relative;}#sk-container-id-1 div.sk-item::before, #sk-container-id-1 div.sk-parallel-item::before {content: \"\";position: absolute;border-left: 1px solid gray;box-sizing: border-box;top: 0;bottom: 0;left: 50%;z-index: -1;}#sk-container-id-1 div.sk-parallel-item {display: flex;flex-direction: column;z-index: 1;position: relative;background-color: white;}#sk-container-id-1 div.sk-parallel-item:first-child::after {align-self: flex-end;width: 50%;}#sk-container-id-1 div.sk-parallel-item:last-child::after {align-self: flex-start;width: 50%;}#sk-container-id-1 div.sk-parallel-item:only-child::after {width: 0;}#sk-container-id-1 div.sk-dashed-wrapped {border: 1px dashed gray;margin: 0 0.4em 0.5em 0.4em;box-sizing: border-box;padding-bottom: 0.4em;background-color: white;}#sk-container-id-1 div.sk-label label {font-family: monospace;font-weight: bold;display: inline-block;line-height: 1.2em;}#sk-container-id-1 div.sk-label-container {text-align: center;}#sk-container-id-1 div.sk-container {/* jupyter's `normalize.less` sets `[hidden] { display: none; }` but bootstrap.min.css set `[hidden] { display: none !important; }` so we also need the `!important` here to be able to override the default hidden behavior on the sphinx rendered scikit-learn.org. See: https://github.com/scikit-learn/scikit-learn/issues/21755 */display: inline-block !important;position: relative;}#sk-container-id-1 div.sk-text-repr-fallback {display: none;}</style><div id=\"sk-container-id-1\" class=\"sk-top-container\"><div class=\"sk-text-repr-fallback\"><pre>LogisticRegression()</pre><b>In a Jupyter environment, please rerun this cell to show the HTML representation or trust the notebook. <br />On GitHub, the HTML representation is unable to render, please try loading this page with nbviewer.org.</b></div><div class=\"sk-container\" hidden><div class=\"sk-item\"><div class=\"sk-estimator sk-toggleable\"><input class=\"sk-toggleable__control sk-hidden--visually\" id=\"sk-estimator-id-1\" type=\"checkbox\" checked><label for=\"sk-estimator-id-1\" class=\"sk-toggleable__label sk-toggleable__label-arrow\">LogisticRegression</label><div class=\"sk-toggleable__content\"><pre>LogisticRegression()</pre></div></div></div></div></div>"
      ],
      "text/plain": [
       "LogisticRegression()"
      ]
     },
     "execution_count": 30,
     "metadata": {},
     "output_type": "execute_result"
    }
   ],
   "source": [
    "LR.fit(x,y)"
   ]
  },
  {
   "cell_type": "code",
   "execution_count": 37,
   "id": "65173425-1c84-4f0f-b160-b23600386d2e",
   "metadata": {},
   "outputs": [
    {
     "name": "stdin",
     "output_type": "stream",
     "text": [
      "Enter your PlayerID  77\n",
      "Enter your Age  22\n",
      "Choose 0 if you are male or choose 1 if your female  0\n",
      "Enter your Play Time in Hours  22\n",
      "Enter level of Game Difficulty: 0-easy,1-moderate,2-Hard  1\n",
      "Enter Average game Sessions per week  47\n",
      "Enter Average Session Duration in Minutes  121\n",
      "Enter your Player Level  71\n",
      "Enter number of Achievements unlocked  7\n"
     ]
    },
    {
     "name": "stdout",
     "output_type": "stream",
     "text": [
      "Engagement Level of player is : High\n"
     ]
    },
    {
     "name": "stderr",
     "output_type": "stream",
     "text": [
      "C:\\Users\\SUJAN NAIK\\anaconda3\\Lib\\site-packages\\sklearn\\base.py:439: UserWarning: X does not have valid feature names, but LogisticRegression was fitted with feature names\n",
      "  warnings.warn(\n"
     ]
    }
   ],
   "source": [
    "l1=int(input(\"Enter your PlayerID \"))\n",
    "l2=int(input(\"Enter your Age \"))\n",
    "l3=int(input(\"Choose 0 if you are male or choose 1 if your female \"))\n",
    "l4=float(input(\"Enter your Play Time in Hours \"))\n",
    "l5=int(input(\"Enter level of Game Difficulty: 0-easy,1-moderate,2-Hard \"))\n",
    "l6=int(input(\"Enter Average game Sessions per week \"))\n",
    "l7=float(input(\"Enter Average Session Duration in Minutes \"))\n",
    "l8=int(input(\"Enter your Player Level \"))\n",
    "l9=int(input(\"Enter number of Achievements unlocked \"))\n",
    "\n",
    "out = LR.predict([[l1,l2,l3,l4,l5,l6,l7,l8,l9]])\n",
    "out = True\n",
    "\n",
    "print(\"Engagement Level of player is :\",a[0])\n"
   ]
  },
  {
   "cell_type": "code",
   "execution_count": null,
   "id": "d807bb2f-dfe3-48f1-958e-cbc0b1e0b2a9",
   "metadata": {},
   "outputs": [],
   "source": []
  }
 ],
 "metadata": {
  "kernelspec": {
   "display_name": "Python 3 (ipykernel)",
   "language": "python",
   "name": "python3"
  },
  "language_info": {
   "codemirror_mode": {
    "name": "ipython",
    "version": 3
   },
   "file_extension": ".py",
   "mimetype": "text/x-python",
   "name": "python",
   "nbconvert_exporter": "python",
   "pygments_lexer": "ipython3",
   "version": "3.11.7"
  }
 },
 "nbformat": 4,
 "nbformat_minor": 5
}
